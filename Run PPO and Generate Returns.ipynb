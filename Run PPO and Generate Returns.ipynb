{
 "cells": [
  {
   "cell_type": "code",
   "execution_count": 1,
   "id": "9238a49b-d13e-4fae-888d-cdeaa6373cb6",
   "metadata": {},
   "outputs": [
    {
     "name": "stdout",
     "output_type": "stream",
     "text": [
      "Running: python ppo_hopper.py --early-termination --seed 42\n",
      "Running: python ppo_hopper.py  --seed 42\n",
      "Running: python ppo_hopper.py --early-termination --seed 123\n",
      "Running: python ppo_hopper.py  --seed 123\n",
      "Running: python ppo_hopper.py --early-termination --seed 456\n",
      "Running: python ppo_hopper.py  --seed 456\n"
     ]
    }
   ],
   "source": [
    "import os\n",
    "\n",
    "# Define the command template\n",
    "command_template = \"python ppo_hopper.py {early_termination_flag} --seed {seed}\"\n",
    "\n",
    "# Specify seeds\n",
    "seeds = [42, 123, 456]\n",
    "\n",
    "# Training commands with and without early termination\n",
    "for seed in seeds:\n",
    "    # With early termination\n",
    "    command_with_early_termination = command_template.format(\n",
    "        early_termination_flag=\"--early-termination\", seed=seed\n",
    "    )\n",
    "    print(f\"Running: {command_with_early_termination}\")\n",
    "    os.system(command_with_early_termination)\n",
    "    \n",
    "    # Without early termination\n",
    "    command_without_early_termination = command_template.format(\n",
    "        early_termination_flag=\"\", seed=seed\n",
    "    )\n",
    "    print(f\"Running: {command_without_early_termination}\")\n",
    "    os.system(command_without_early_termination)\n",
    "\n"
   ]
  },
  {
   "cell_type": "code",
   "execution_count": null,
   "id": "1a8bcb9c-7227-4488-b665-84219cf61941",
   "metadata": {},
   "outputs": [],
   "source": []
  },
  {
   "cell_type": "code",
   "execution_count": 4,
   "id": "4ca24cbd-2133-4e21-a3c3-9b8a32389833",
   "metadata": {},
   "outputs": [
    {
     "data": {
      "text/plain": [
       "0"
      ]
     },
     "execution_count": 4,
     "metadata": {},
     "output_type": "execute_result"
    }
   ],
   "source": [
    "import os\n",
    "\n",
    "# Command to generate the combined plot\n",
    "command = \"python plot.py --directory results --output ppo_hopper.png --seeds 42,123,456\"\n",
    "os.system(command)\n",
    "\n"
   ]
  },
  {
   "cell_type": "code",
   "execution_count": null,
   "id": "343f0430-c133-44dd-b8b6-88d1fd56d5c9",
   "metadata": {},
   "outputs": [],
   "source": []
  }
 ],
 "metadata": {
  "kernelspec": {
   "display_name": "Python 3 (ipykernel)",
   "language": "python",
   "name": "python3"
  },
  "language_info": {
   "codemirror_mode": {
    "name": "ipython",
    "version": 3
   },
   "file_extension": ".py",
   "mimetype": "text/x-python",
   "name": "python",
   "nbconvert_exporter": "python",
   "pygments_lexer": "ipython3",
   "version": "3.10.13"
  }
 },
 "nbformat": 4,
 "nbformat_minor": 5
}
